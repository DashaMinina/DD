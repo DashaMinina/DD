{
  "nbformat": 4,
  "nbformat_minor": 0,
  "metadata": {
    "colab": {
      "name": "ans.ipynb",
      "provenance": [],
      "collapsed_sections": [],
      "authorship_tag": "ABX9TyMebv3h/CFvcNhGyR072gvU",
      "include_colab_link": true
    },
    "kernelspec": {
      "name": "python3",
      "display_name": "Python 3"
    }
  },
  "cells": [
    {
      "cell_type": "markdown",
      "metadata": {
        "id": "view-in-github",
        "colab_type": "text"
      },
      "source": [
        "<a href=\"https://colab.research.google.com/github/DashaMinina/DD/blob/master/ans.ipynb\" target=\"_parent\"><img src=\"https://colab.research.google.com/assets/colab-badge.svg\" alt=\"Open In Colab\"/></a>"
      ]
    },
    {
      "cell_type": "markdown",
      "metadata": {
        "id": "AQovSRdl8ILq",
        "colab_type": "text"
      },
      "source": [
        "##5 вариант"
      ]
    },
    {
      "cell_type": "markdown",
      "metadata": {
        "id": "-6ozk0lCjYC2",
        "colab_type": "text"
      },
      "source": [
        "6 задача"
      ]
    },
    {
      "cell_type": "code",
      "metadata": {
        "id": "1R5XS8QceiF4",
        "colab_type": "code",
        "outputId": "d840aa87-73e4-40bf-fa83-f13651c3c7b1",
        "colab": {
          "base_uri": "https://localhost:8080/",
          "height": 50
        }
      },
      "source": [
        "import math\n",
        "a=2\n",
        "b=4\n",
        "c=math.sqrt(pow(a,2)+pow(b,2))\n",
        "print(\"Гипотенуза равна\",c)\n",
        "s=a*b/2\n",
        "print(\"Площадь треугольника равна\",s)"
      ],
      "execution_count": 0,
      "outputs": [
        {
          "output_type": "stream",
          "text": [
            "Гипотенуза равна 4.47213595499958\n",
            "Площадь треугольника равна 4.0\n"
          ],
          "name": "stdout"
        }
      ]
    },
    {
      "cell_type": "markdown",
      "metadata": {
        "id": "aljyO4-Pjh7_",
        "colab_type": "text"
      },
      "source": [
        "56 задача"
      ]
    },
    {
      "cell_type": "code",
      "metadata": {
        "id": "B52oHx5PsJG-",
        "colab_type": "code",
        "outputId": "06af1ea1-089a-4d3f-d793-bced9300be78",
        "colab": {
          "base_uri": "https://localhost:8080/",
          "height": 34
        }
      },
      "source": [
        "a=3\n",
        "b=4\n",
        "c=6\n",
        "x=5\n",
        "y=3\n",
        "if ((a<=x)and(b<=y)) or((a<=x)and(c<=y)) or((b<=x)and(c<=y)) or((a<=y)and(b<=x)) or((a<=y)and(c<=x)) or((b<=y)and(c<=x)):\n",
        "  print(\"Пройдет\")\n",
        "else:\n",
        "  print(\"Не пройдет\")"
      ],
      "execution_count": 0,
      "outputs": [
        {
          "output_type": "stream",
          "text": [
            "Пройдет\n"
          ],
          "name": "stdout"
        }
      ]
    },
    {
      "cell_type": "markdown",
      "metadata": {
        "id": "K_R_TOPvjn1f",
        "colab_type": "text"
      },
      "source": [
        "65 задача"
      ]
    },
    {
      "cell_type": "code",
      "metadata": {
        "id": "hXBmr2GLjUiI",
        "colab_type": "code",
        "outputId": "689c0f35-f4e7-4aa8-f7f7-e814003b9abf",
        "colab": {
          "base_uri": "https://localhost:8080/",
          "height": 34
        }
      },
      "source": [
        "import math\n",
        "n=125\n",
        "st=str(n)\n",
        "sum=0\n",
        "for i in st:\n",
        " sum+=int(i)\n",
        "if math.pow(n,2)==math.pow(sum,3):\n",
        "  print(\"Верно\")\n",
        "else:\n",
        "  print(\"Не верно\")"
      ],
      "execution_count": 0,
      "outputs": [
        {
          "output_type": "stream",
          "text": [
            "Не верно\n"
          ],
          "name": "stdout"
        }
      ]
    },
    {
      "cell_type": "markdown",
      "metadata": {
        "id": "FI-69Y8vr-Z4",
        "colab_type": "text"
      },
      "source": [
        "77(г) задача\n"
      ]
    },
    {
      "cell_type": "code",
      "metadata": {
        "id": "8v8Lwm3DsE5y",
        "colab_type": "code",
        "outputId": "5afc8367-81c3-4a37-ee52-64d27f2cc465",
        "colab": {
          "base_uri": "https://localhost:8080/",
          "height": 34
        }
      },
      "source": [
        "import math\n",
        "n=3\n",
        "sum=0\n",
        "a=0\n",
        "for i in range(1,n+1):\n",
        "  a+=math.sin(i)\n",
        "  sum+=1/a\n",
        "print(sum)\n",
        "\n"
      ],
      "execution_count": 0,
      "outputs": [
        {
          "output_type": "stream",
          "text": [
            "2.2881452760727377\n"
          ],
          "name": "stdout"
        }
      ]
    },
    {
      "cell_type": "markdown",
      "metadata": {
        "id": "VDnuPlwAYiZr",
        "colab_type": "text"
      },
      "source": [
        "179(а) задача"
      ]
    },
    {
      "cell_type": "code",
      "metadata": {
        "id": "vKHu0PgRYppw",
        "colab_type": "code",
        "colab": {
          "base_uri": "https://localhost:8080/",
          "height": 151
        },
        "outputId": "33b77127-86e5-45fb-ef73-016ac3afeaaa"
      },
      "source": [
        "n=list(range(1,30))\n",
        "print(n)\n",
        "for i in n:\n",
        "  if (i%2==0) and ((i/2)%2==1):\n",
        "   print(i)\n"
      ],
      "execution_count": 6,
      "outputs": [
        {
          "output_type": "stream",
          "text": [
            "[1, 2, 3, 4, 5, 6, 7, 8, 9, 10, 11, 12, 13, 14, 15, 16, 17, 18, 19, 20, 21, 22, 23, 24, 25, 26, 27, 28, 29]\n",
            "2\n",
            "6\n",
            "10\n",
            "14\n",
            "18\n",
            "22\n",
            "26\n"
          ],
          "name": "stdout"
        }
      ]
    }
  ]
}