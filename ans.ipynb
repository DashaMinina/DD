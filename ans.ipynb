{
  "nbformat": 4,
  "nbformat_minor": 0,
  "metadata": {
    "colab": {
      "name": "ans.ipynb",
      "provenance": [],
      "collapsed_sections": [],
      "authorship_tag": "ABX9TyON8317jwrcqvsz7WXVtKht",
      "include_colab_link": true
    },
    "kernelspec": {
      "name": "python3",
      "display_name": "Python 3"
    }
  },
  "cells": [
    {
      "cell_type": "markdown",
      "metadata": {
        "id": "view-in-github",
        "colab_type": "text"
      },
      "source": [
        "<a href=\"https://colab.research.google.com/github/DashaMinina/DD/blob/master/ans.ipynb\" target=\"_parent\"><img src=\"https://colab.research.google.com/assets/colab-badge.svg\" alt=\"Open In Colab\"/></a>"
      ]
    },
    {
      "cell_type": "code",
      "metadata": {
        "id": "1R5XS8QceiF4",
        "colab_type": "code",
        "colab": {
          "base_uri": "https://localhost:8080/",
          "height": 50
        },
        "outputId": "6923b728-9217-44c7-91ba-3df1bd6adeaf"
      },
      "source": [
        "import math\n",
        "a=2\n",
        "b=4\n",
        "c=math.sqrt(pow(a,2)+pow(b,2))\n",
        "print(\"Гипотенуза равна\",c)\n",
        "s=a*b/2\n",
        "print(\"Площадь треугольника равна\",s)"
      ],
      "execution_count": 6,
      "outputs": [
        {
          "output_type": "stream",
          "text": [
            "Гипотенуза равна 4.47213595499958\n",
            "Площадь треугольника равна 4.0\n"
          ],
          "name": "stdout"
        }
      ]
    }
  ]
}