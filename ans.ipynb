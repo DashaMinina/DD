{
  "nbformat": 4,
  "nbformat_minor": 0,
  "metadata": {
    "colab": {
      "name": "ans.ipynb",
      "provenance": [],
      "collapsed_sections": [],
      "authorship_tag": "ABX9TyM2Pixu4AFZt3tEwQGicGuY",
      "include_colab_link": true
    },
    "kernelspec": {
      "name": "python3",
      "display_name": "Python 3"
    }
  },
  "cells": [
    {
      "cell_type": "markdown",
      "metadata": {
        "id": "view-in-github",
        "colab_type": "text"
      },
      "source": [
        "<a href=\"https://colab.research.google.com/github/DashaMinina/DD/blob/master/ans.ipynb\" target=\"_parent\"><img src=\"https://colab.research.google.com/assets/colab-badge.svg\" alt=\"Open In Colab\"/></a>"
      ]
    },
    {
      "cell_type": "code",
      "metadata": {
        "id": "1R5XS8QceiF4",
        "colab_type": "code",
        "colab": {
          "base_uri": "https://localhost:8080/",
          "height": 50
        },
        "outputId": "d840aa87-73e4-40bf-fa83-f13651c3c7b1"
      },
      "source": [
        "import math\n",
        "a=2\n",
        "b=4\n",
        "c=math.sqrt(pow(a,2)+pow(b,2))\n",
        "print(\"Гипотенуза равна\",c)\n",
        "s=a*b/2\n",
        "print(\"Площадь треугольника равна\",s)"
      ],
      "execution_count": 8,
      "outputs": [
        {
          "output_type": "stream",
          "text": [
            "Гипотенуза равна 4.47213595499958\n",
            "Площадь треугольника равна 4.0\n"
          ],
          "name": "stdout"
        }
      ]
    },
    {
      "cell_type": "code",
      "metadata": {
        "id": "B52oHx5PsJG-",
        "colab_type": "code",
        "colab": {
          "base_uri": "https://localhost:8080/",
          "height": 34
        },
        "outputId": "06af1ea1-089a-4d3f-d793-bced9300be78"
      },
      "source": [
        "a=3\n",
        "b=4\n",
        "c=6\n",
        "x=5\n",
        "y=3\n",
        "if ((a<=x)and(b<=y)) or((a<=x)and(c<=y)) or((b<=x)and(c<=y)) or((a<=y)and(b<=x)) or((a<=y)and(c<=x)) or((b<=y)and(c<=x)):\n",
        "  print(\"Пройдет\")\n",
        "else:\n",
        "  print(\"Не пройдет\")"
      ],
      "execution_count": 12,
      "outputs": [
        {
          "output_type": "stream",
          "text": [
            "Пройдет\n"
          ],
          "name": "stdout"
        }
      ]
    }
  ]
}