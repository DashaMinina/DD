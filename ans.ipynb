{
  "nbformat": 4,
  "nbformat_minor": 0,
  "metadata": {
    "colab": {
      "name": "ans.ipynb",
      "provenance": [],
      "collapsed_sections": [],
      "authorship_tag": "ABX9TyMxBSAI4n324uMs1J9pEslx",
      "include_colab_link": true
    },
    "kernelspec": {
      "name": "python3",
      "display_name": "Python 3"
    }
  },
  "cells": [
    {
      "cell_type": "markdown",
      "metadata": {
        "id": "view-in-github",
        "colab_type": "text"
      },
      "source": [
        "<a href=\"https://colab.research.google.com/github/DashaMinina/DD/blob/master/ans.ipynb\" target=\"_parent\"><img src=\"https://colab.research.google.com/assets/colab-badge.svg\" alt=\"Open In Colab\"/></a>"
      ]
    },
    {
      "cell_type": "markdown",
      "metadata": {
        "id": "AQovSRdl8ILq",
        "colab_type": "text"
      },
      "source": [
        "##5 вариант"
      ]
    },
    {
      "cell_type": "markdown",
      "metadata": {
        "id": "-6ozk0lCjYC2",
        "colab_type": "text"
      },
      "source": [
        "6 задача"
      ]
    },
    {
      "cell_type": "code",
      "metadata": {
        "id": "1R5XS8QceiF4",
        "colab_type": "code",
        "outputId": "d840aa87-73e4-40bf-fa83-f13651c3c7b1",
        "colab": {
          "base_uri": "https://localhost:8080/",
          "height": 50
        }
      },
      "source": [
        "import math\n",
        "a=2\n",
        "b=4\n",
        "c=math.sqrt(pow(a,2)+pow(b,2))\n",
        "print(\"Гипотенуза равна\",c)\n",
        "s=a*b/2\n",
        "print(\"Площадь треугольника равна\",s)"
      ],
      "execution_count": 0,
      "outputs": [
        {
          "output_type": "stream",
          "text": [
            "Гипотенуза равна 4.47213595499958\n",
            "Площадь треугольника равна 4.0\n"
          ],
          "name": "stdout"
        }
      ]
    },
    {
      "cell_type": "markdown",
      "metadata": {
        "id": "aljyO4-Pjh7_",
        "colab_type": "text"
      },
      "source": [
        "56 задача"
      ]
    },
    {
      "cell_type": "code",
      "metadata": {
        "id": "B52oHx5PsJG-",
        "colab_type": "code",
        "outputId": "06af1ea1-089a-4d3f-d793-bced9300be78",
        "colab": {
          "base_uri": "https://localhost:8080/",
          "height": 34
        }
      },
      "source": [
        "a=3\n",
        "b=4\n",
        "c=6\n",
        "x=5\n",
        "y=3\n",
        "if ((a<=x)and(b<=y)) or((a<=x)and(c<=y)) or((b<=x)and(c<=y)) or((a<=y)and(b<=x)) or((a<=y)and(c<=x)) or((b<=y)and(c<=x)):\n",
        "  print(\"Пройдет\")\n",
        "else:\n",
        "  print(\"Не пройдет\")"
      ],
      "execution_count": 0,
      "outputs": [
        {
          "output_type": "stream",
          "text": [
            "Пройдет\n"
          ],
          "name": "stdout"
        }
      ]
    },
    {
      "cell_type": "markdown",
      "metadata": {
        "id": "8kGcgWab-iW5",
        "colab_type": "text"
      },
      "source": [
        "120(а) задача"
      ]
    },
    {
      "cell_type": "code",
      "metadata": {
        "id": "73lMcZju-kam",
        "colab_type": "code",
        "colab": {
          "base_uri": "https://localhost:8080/",
          "height": 281
        },
        "outputId": "c41b23f6-35a3-40dc-c096-a2b3c8cbafb5"
      },
      "source": [
        "%matplotlib inline\n",
        "import matplotlib.pyplot as plt\n",
        "\n",
        "plt.title(\"Треугольник\")\n",
        "plt.plot((100,150,80,100),(100,100,170,100))\n",
        "\n",
        "\n",
        "plt.show()"
      ],
      "execution_count": 52,
      "outputs": [
        {
          "output_type": "display_data",
          "data": {
            "image/png": "[encoded data removed]",
            "text/plain": [
              "<Figure size 432x288 with 1 Axes>"
            ]
          },
          "metadata": {
            "tags": []
          }
        }
      ]
    },
    {
      "cell_type": "markdown",
      "metadata": {
        "id": "C7kGtjRRCLmK",
        "colab_type": "text"
      },
      "source": [
        "120(б) задача"
      ]
    },
    {
      "cell_type": "code",
      "metadata": {
        "id": "cS-HiAIgCOrY",
        "colab_type": "code",
        "colab": {
          "base_uri": "https://localhost:8080/",
          "height": 281
        },
        "outputId": "7d1a759a-e1c8-4ae8-c484-11bce7706d26"
      },
      "source": [
        "%matplotlib inline\n",
        "import matplotlib.pyplot as plt\n",
        "plt.title(\"Прямоугольник\")\n",
        "plt.plot((80,170,170,80,80),(80,80,150,150,80))\n",
        "\n",
        "plt.show()"
      ],
      "execution_count": 20,
      "outputs": [
        {
          "output_type": "display_data",
          "data": {
            "image/png": "[encoded data removed]",
            "text/plain": [
              "<Figure size 432x288 with 1 Axes>"
            ]
          },
          "metadata": {
            "tags": []
          }
        }
      ]
    },
    {
      "cell_type": "markdown",
      "metadata": {
        "id": "pHoTv0b6CnLk",
        "colab_type": "text"
      },
      "source": [
        "120(в) задача"
      ]
    },
    {
      "cell_type": "code",
      "metadata": {
        "id": "mLRp1JrrCpPd",
        "colab_type": "code",
        "colab": {
          "base_uri": "https://localhost:8080/",
          "height": 281
        },
        "outputId": "bc45e281-e85e-4270-f7c5-9482e417af72"
      },
      "source": [
        "%matplotlib inline\n",
        "import matplotlib.pyplot as plt\n",
        "plt.title(\"Пятиугольник\")\n",
        "plt.plot((100,150,170,150,100,100),(100,100,120,140,140,100))\n",
        "\n",
        "plt.show()"
      ],
      "execution_count": 32,
      "outputs": [
        {
          "output_type": "display_data",
          "data": {
            "image/png": "[encoded data removed]",
            "text/plain": [
              "<Figure size 432x288 with 1 Axes>"
            ]
          },
          "metadata": {
            "tags": []
          }
        }
      ]
    },
    {
      "cell_type": "markdown",
      "metadata": {
        "id": "VnZE12nLC8OQ",
        "colab_type": "text"
      },
      "source": [
        "120(г) задача"
      ]
    },
    {
      "cell_type": "code",
      "metadata": {
        "id": "_NYThHSNC-XW",
        "colab_type": "code",
        "colab": {
          "base_uri": "https://localhost:8080/",
          "height": 281
        },
        "outputId": "179057fb-9fb7-49b0-dfc9-cf06a08f2aed"
      },
      "source": [
        "%matplotlib inline\n",
        "import matplotlib.pyplot as plt\n",
        "plt.title(\"Шестиугольник\")\n",
        "plt.plot((120,140,140,120,100,100,120),(100,120,140,160,140,120,100),color = 'green',\n",
        "        markerfacecolor = 'lawngreen',\n",
        "        markeredgecolor = 'darkgreen')\n",
        "\n",
        "plt.show()"
      ],
      "execution_count": 66,
      "outputs": [
        {
          "output_type": "display_data",
          "data": {
            "image/png": "[encoded data removed]",
            "text/plain": [
              "<Figure size 432x288 with 1 Axes>"
            ]
          },
          "metadata": {
            "tags": []
          }
        }
      ]
    },
    {
      "cell_type": "markdown",
      "metadata": {
        "id": "K_R_TOPvjn1f",
        "colab_type": "text"
      },
      "source": [
        "65 задача"
      ]
    },
    {
      "cell_type": "code",
      "metadata": {
        "id": "hXBmr2GLjUiI",
        "colab_type": "code",
        "outputId": "689c0f35-f4e7-4aa8-f7f7-e814003b9abf",
        "colab": {
          "base_uri": "https://localhost:8080/",
          "height": 34
        }
      },
      "source": [
        "import math\n",
        "n=125\n",
        "st=str(n)\n",
        "sum=0\n",
        "for i in st:\n",
        " sum+=int(i)\n",
        "if math.pow(n,2)==math.pow(sum,3):\n",
        "  print(\"Верно\")\n",
        "else:\n",
        "  print(\"Не верно\")"
      ],
      "execution_count": 0,
      "outputs": [
        {
          "output_type": "stream",
          "text": [
            "Не верно\n"
          ],
          "name": "stdout"
        }
      ]
    },
    {
      "cell_type": "markdown",
      "metadata": {
        "id": "FI-69Y8vr-Z4",
        "colab_type": "text"
      },
      "source": [
        "77(г) задача\n"
      ]
    },
    {
      "cell_type": "code",
      "metadata": {
        "id": "8v8Lwm3DsE5y",
        "colab_type": "code",
        "outputId": "5afc8367-81c3-4a37-ee52-64d27f2cc465",
        "colab": {
          "base_uri": "https://localhost:8080/",
          "height": 34
        }
      },
      "source": [
        "import math\n",
        "n=3\n",
        "sum=0\n",
        "a=0\n",
        "for i in range(1,n+1):\n",
        "  a+=math.sin(i)\n",
        "  sum+=1/a\n",
        "print(sum)\n",
        "\n"
      ],
      "execution_count": 0,
      "outputs": [
        {
          "output_type": "stream",
          "text": [
            "2.2881452760727377\n"
          ],
          "name": "stdout"
        }
      ]
    },
    {
      "cell_type": "markdown",
      "metadata": {
        "id": "QdZ7CjlvJ1lh",
        "colab_type": "text"
      },
      "source": [
        "124 задача"
      ]
    },
    {
      "cell_type": "code",
      "metadata": {
        "id": "FtHtEVubJ3NX",
        "colab_type": "code",
        "colab": {
          "base_uri": "https://localhost:8080/",
          "height": 265
        },
        "outputId": "93eca0bf-ec9c-4346-f660-e0a612f3d17d"
      },
      "source": [
        "%matplotlib inline\n",
        "import matplotlib.pyplot as plt\n",
        "\n",
        "plt.bar([1, 3], [2, 4])\n",
        "plt.bar([5, 7], [6, 8])\n",
        "plt.show()"
      ],
      "execution_count": 75,
      "outputs": [
        {
          "output_type": "display_data",
          "data": {
            "image/png": "[encoded data removed]",
            "text/plain": [
              "<Figure size 432x288 with 1 Axes>"
            ]
          },
          "metadata": {
            "tags": []
          }
        }
      ]
    },
    {
      "cell_type": "markdown",
      "metadata": {
        "id": "VDnuPlwAYiZr",
        "colab_type": "text"
      },
      "source": [
        "179(а) задача"
      ]
    },
    {
      "cell_type": "code",
      "metadata": {
        "id": "vKHu0PgRYppw",
        "colab_type": "code",
        "outputId": "33b77127-86e5-45fb-ef73-016ac3afeaaa",
        "colab": {
          "base_uri": "https://localhost:8080/",
          "height": 151
        }
      },
      "source": [
        "n=list(range(1,30))\n",
        "print(n)\n",
        "for i in n:\n",
        "  if (i%2==0) and ((i/2)%2==1):\n",
        "   print(i)\n"
      ],
      "execution_count": 0,
      "outputs": [
        {
          "output_type": "stream",
          "text": [
            "[1, 2, 3, 4, 5, 6, 7, 8, 9, 10, 11, 12, 13, 14, 15, 16, 17, 18, 19, 20, 21, 22, 23, 24, 25, 26, 27, 28, 29]\n",
            "2\n",
            "6\n",
            "10\n",
            "14\n",
            "18\n",
            "22\n",
            "26\n"
          ],
          "name": "stdout"
        }
      ]
    },
    {
      "cell_type": "markdown",
      "metadata": {
        "id": "5E2QPjfMdyH7",
        "colab_type": "text"
      },
      "source": [
        "139(д) задача"
      ]
    },
    {
      "cell_type": "code",
      "metadata": {
        "id": "CxKKpZnGd01W",
        "colab_type": "code",
        "outputId": "5a432ef0-f6a2-4c46-f73a-3c6e8dbf2872",
        "colab": {
          "base_uri": "https://localhost:8080/",
          "height": 34
        }
      },
      "source": [
        "n=5\n",
        "b=list()\n",
        "for i in range(0,n):\n",
        "  b.append(2**i+3**(i+1))\n",
        "print(b)  "
      ],
      "execution_count": 0,
      "outputs": [
        {
          "output_type": "stream",
          "text": [
            "[4, 11, 31, 89, 259]\n"
          ],
          "name": "stdout"
        }
      ]
    },
    {
      "cell_type": "markdown",
      "metadata": {
        "id": "O1urSRREI_kf",
        "colab_type": "text"
      },
      "source": [
        "209 задача"
      ]
    },
    {
      "cell_type": "code",
      "metadata": {
        "id": "VeswXp19JCvK",
        "colab_type": "code",
        "outputId": "4e770d38-cbaf-4c34-92a0-a5ebfb9803c5",
        "colab": {
          "base_uri": "https://localhost:8080/",
          "height": 50
        }
      },
      "source": [
        "import math\n",
        "n=5\n",
        "x=5\n",
        "b=list()\n",
        "c=2\n",
        "z=0\n",
        "minost=500\n",
        "for i in range(0,n):\n",
        "  m=math.e**math.cos(x**2*i)*math.sin(x**3*i)\n",
        "  b.append(m)\n",
        "  ost=c-m\n",
        "  if ost<minost:\n",
        "    minost=ost\n",
        "    z=m\n",
        "   \n",
        "print(b)\n",
        "print(z)\n"
      ],
      "execution_count": 3,
      "outputs": [
        {
          "output_type": "stream",
          "text": [
            "[0.0, -1.6599046729056264, -2.547343427388798, -2.294891067004782, -1.1079862459495085]\n",
            "0.0\n"
          ],
          "name": "stdout"
        }
      ]
    },
    {
      "cell_type": "markdown",
      "metadata": {
        "id": "qGZwhasUR7pR",
        "colab_type": "text"
      },
      "source": [
        "257(д) задача"
      ]
    },
    {
      "cell_type": "code",
      "metadata": {
        "id": "FlrD7PXXSBE4",
        "colab_type": "code",
        "outputId": "d308fda0-853b-44ae-a857-78449cfa2d76",
        "colab": {
          "base_uri": "https://localhost:8080/",
          "height": 34
        }
      },
      "source": [
        "s=\"After all this time? Always!\"\n",
        "m=\"\"\n",
        "for i in s:\n",
        "  if m==i:\n",
        "    print(\"Имеется\") \n",
        "  else:\n",
        "    m=i\n",
        "    print(\"Не имеется\")"
      ],
      "execution_count": 0,
      "outputs": [
        {
          "output_type": "stream",
          "text": [
            "Имеется\n"
          ],
          "name": "stdout"
        }
      ]
    }
  ]
}