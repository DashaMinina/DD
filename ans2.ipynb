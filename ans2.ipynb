{
  "nbformat": 4,
  "nbformat_minor": 0,
  "metadata": {
    "colab": {
      "name": "ans2.ipynb",
      "provenance": [],
      "authorship_tag": "ABX9TyPskT4/Q2muz3J0SpxviX1f",
      "include_colab_link": true
    },
    "kernelspec": {
      "name": "python3",
      "display_name": "Python 3"
    }
  },
  "cells": [
    {
      "cell_type": "markdown",
      "metadata": {
        "id": "view-in-github",
        "colab_type": "text"
      },
      "source": [
        "<a href=\"https://colab.research.google.com/github/DashaMinina/py_work/blob/master/ans2.ipynb\" target=\"_parent\"><img src=\"https://colab.research.google.com/assets/colab-badge.svg\" alt=\"Open In Colab\"/></a>"
      ]
    },
    {
      "cell_type": "markdown",
      "metadata": {
        "id": "4tb9FGF5okqG",
        "colab_type": "text"
      },
      "source": [
        "5 вариант"
      ]
    },
    {
      "cell_type": "markdown",
      "metadata": {
        "id": "9RHjTlHHoo3A",
        "colab_type": "text"
      },
      "source": [
        "316(а) задача"
      ]
    },
    {
      "cell_type": "code",
      "metadata": {
        "id": "yQ8CqpzunvLb",
        "colab_type": "code",
        "outputId": "1a904c84-60d6-4321-8611-5d3d429320a5",
        "colab": {
          "base_uri": "https://localhost:8080/",
          "height": 67
        }
      },
      "source": [
        "s=\"hello world\"\n",
        "splitted_text = s.split()\n",
        "for i in splitted_text:\n",
        "  \n",
        "  if(i[len(i)-1]==\"d\"):\n",
        "    print(i)\n"
      ],
      "execution_count": 0,
      "outputs": [
        {
          "output_type": "stream",
          "text": [
            "world\n",
            "wwrffglknd\n",
            "d\n"
          ],
          "name": "stdout"
        }
      ]
    },
    {
      "cell_type": "markdown",
      "metadata": {
        "id": "Eis5zALW9TSH",
        "colab_type": "text"
      },
      "source": [
        "370(б) задача"
      ]
    },
    {
      "cell_type": "code",
      "metadata": {
        "id": "4pZmn4w09WTo",
        "colab_type": "code",
        "outputId": "54175a3b-be01-4efb-9aff-05d55a2aa0e1",
        "colab": {
          "base_uri": "https://localhost:8080/",
          "height": 229
        }
      },
      "source": [
        "import math\n",
        "n=5\n",
        "mas=[[]]\n",
        "mas2=list()\n",
        "a=0\n",
        "for i in range(0,n):\n",
        "  for j in range(0,n):\n",
        "    if i<j:\n",
        "      a=math.sin(i+j)\n",
        "    elif i==j:\n",
        "      a=1\n",
        "    else:\n",
        "      a=math.asin((i+j)/(2*i+3*j))\n",
        "  mas[i][j].append(a)\n",
        "  print(mas)\n",
        "\n"
      ],
      "execution_count": 0,
      "outputs": [
        {
          "output_type": "error",
          "ename": "IndexError",
          "evalue": "ignored",
          "traceback": [
            "\u001b[0;31m---------------------------------------------------------------------------\u001b[0m",
            "\u001b[0;31mIndexError\u001b[0m                                Traceback (most recent call last)",
            "\u001b[0;32m<ipython-input-21-0374914f4f70>\u001b[0m in \u001b[0;36m<module>\u001b[0;34m()\u001b[0m\n\u001b[1;32m     12\u001b[0m     \u001b[0;32melse\u001b[0m\u001b[0;34m:\u001b[0m\u001b[0;34m\u001b[0m\u001b[0;34m\u001b[0m\u001b[0m\n\u001b[1;32m     13\u001b[0m       \u001b[0ma\u001b[0m\u001b[0;34m=\u001b[0m\u001b[0mmath\u001b[0m\u001b[0;34m.\u001b[0m\u001b[0masin\u001b[0m\u001b[0;34m(\u001b[0m\u001b[0;34m(\u001b[0m\u001b[0mi\u001b[0m\u001b[0;34m+\u001b[0m\u001b[0mj\u001b[0m\u001b[0;34m)\u001b[0m\u001b[0;34m/\u001b[0m\u001b[0;34m(\u001b[0m\u001b[0;36m2\u001b[0m\u001b[0;34m*\u001b[0m\u001b[0mi\u001b[0m\u001b[0;34m+\u001b[0m\u001b[0;36m3\u001b[0m\u001b[0;34m*\u001b[0m\u001b[0mj\u001b[0m\u001b[0;34m)\u001b[0m\u001b[0;34m)\u001b[0m\u001b[0;34m\u001b[0m\u001b[0;34m\u001b[0m\u001b[0m\n\u001b[0;32m---> 14\u001b[0;31m   \u001b[0mmas\u001b[0m\u001b[0;34m[\u001b[0m\u001b[0mi\u001b[0m\u001b[0;34m]\u001b[0m\u001b[0;34m[\u001b[0m\u001b[0mj\u001b[0m\u001b[0;34m]\u001b[0m\u001b[0;34m.\u001b[0m\u001b[0mappend\u001b[0m\u001b[0;34m(\u001b[0m\u001b[0ma\u001b[0m\u001b[0;34m)\u001b[0m\u001b[0;34m\u001b[0m\u001b[0;34m\u001b[0m\u001b[0m\n\u001b[0m\u001b[1;32m     15\u001b[0m   \u001b[0mprint\u001b[0m\u001b[0;34m(\u001b[0m\u001b[0mmas\u001b[0m\u001b[0;34m)\u001b[0m\u001b[0;34m\u001b[0m\u001b[0;34m\u001b[0m\u001b[0m\n\u001b[1;32m     16\u001b[0m \u001b[0;34m\u001b[0m\u001b[0m\n",
            "\u001b[0;31mIndexError\u001b[0m: list index out of range"
          ]
        }
      ]
    },
    {
      "cell_type": "markdown",
      "metadata": {
        "id": "K6IqZPBPrjnf",
        "colab_type": "text"
      },
      "source": [
        "1014 задача"
      ]
    },
    {
      "cell_type": "code",
      "metadata": {
        "id": "5ewabFhty_kI",
        "colab_type": "code",
        "outputId": "cf617ff5-e250-4231-f0a6-c12d8bf4c8a5",
        "colab": {
          "base_uri": "https://localhost:8080/",
          "height": 118
        }
      },
      "source": [
        "def is_magic_square(matrix, S, N):\n",
        "    return (all(sum(row) == S for row in matrix)\n",
        "            and all(sum(column) == S for column in zip(*matrix))\n",
        "            and sum(matrix[i][i] for i in range(N)) == S\n",
        "            and sum(matrix[i][N-1-i] for i in range(N)) == S\n",
        "            and set(x for row in matrix for x in row) == set(range(1, N**2 + 1)))\n",
        "N = 5\n",
        "try:\n",
        "    matrix = [list(map(int, input().split())) for _ in range(N)]\n",
        "except ValueError:\n",
        "    print('NO')\n",
        "else:\n",
        "    print('YES' if N == 0 or is_magic_square(matrix, sum(matrix[0]), N) else 'NO')\n"
      ],
      "execution_count": 0,
      "outputs": [
        {
          "output_type": "stream",
          "text": [
            "1\n",
            "2\n",
            "3\n",
            "4\n",
            "5\n",
            "NO\n"
          ],
          "name": "stdout"
        }
      ]
    },
    {
      "cell_type": "code",
      "metadata": {
        "id": "EOCGUIlI7J8e",
        "colab_type": "code",
        "outputId": "533d9829-e50d-46fa-8320-d01721a7cbec",
        "colab": {
          "base_uri": "https://localhost:8080/",
          "height": 84
        }
      },
      "source": [
        "import numpy as np\n",
        "\n",
        "def ismagic(a):\n",
        "    if np.array_equal(np.unique(a.sum(axis=1)),np.unique(a.sum(axis=0))):\n",
        "        return True\n",
        "    else:\n",
        "        return False\n",
        "a = np.matrix([[1, 2], [4, 3]])\n",
        "print(ismagic(a))\n",
        "b = np.ones((5,5))\n",
        "print(ismagic(b))\n",
        "c = np.matrix([[2,7,6],[9,5,1],[4,3,8]])\n",
        "print(ismagic(c))\n",
        "d = np.matrix([[17,24,1,8,15],[23,5,7,14,16],[4,6,13,20,22],[10,12,19,21,3],[11,18,25,2,9]])\n",
        "print(ismagic(d))"
      ],
      "execution_count": 0,
      "outputs": [
        {
          "output_type": "stream",
          "text": [
            "False\n",
            "True\n",
            "True\n",
            "True\n"
          ],
          "name": "stdout"
        }
      ]
    },
    {
      "cell_type": "markdown",
      "metadata": {
        "id": "4ZZBSjqrJSnS",
        "colab_type": "text"
      },
      "source": [
        "438 задача"
      ]
    },
    {
      "cell_type": "code",
      "metadata": {
        "id": "GqHDZLwVJUxb",
        "colab_type": "code",
        "colab": {}
      },
      "source": [
        ""
      ],
      "execution_count": 0,
      "outputs": []
    },
    {
      "cell_type": "markdown",
      "metadata": {
        "id": "RIf1c-8KcwVl",
        "colab_type": "text"
      },
      "source": [
        "136(д) задача"
      ]
    },
    {
      "cell_type": "code",
      "metadata": {
        "id": "xQd0PB6IczBm",
        "colab_type": "code",
        "colab": {
          "base_uri": "https://localhost:8080/",
          "height": 50
        },
        "outputId": "e9598b93-8ec0-484a-d30c-4cd87a2026ac"
      },
      "source": [
        "import random\n",
        "n=5\n",
        "a=list()\n",
        "sum=0\n",
        "for i in range(0,n):\n",
        "  number=random.randint(0,10)\n",
        "  a.append(number)\n",
        "  sum+=number**2\n",
        "print(a)\n",
        "print(sum)\n"
      ],
      "execution_count": 5,
      "outputs": [
        {
          "output_type": "stream",
          "text": [
            "[0, 0, 3, 2, 4]\n",
            "29\n"
          ],
          "name": "stdout"
        }
      ]
    },
    {
      "cell_type": "markdown",
      "metadata": {
        "id": "SnWuUeLig80N",
        "colab_type": "text"
      },
      "source": [
        "832 задача"
      ]
    },
    {
      "cell_type": "code",
      "metadata": {
        "id": "jfJgRKcPg_U0",
        "colab_type": "code",
        "colab": {
          "base_uri": "https://localhost:8080/",
          "height": 218
        },
        "outputId": "01df34bc-2e15-4ed9-95e7-6b034cc43a9a"
      },
      "source": [
        "import calendar\n",
        "n=2019\n",
        "m=13\n",
        "for i in range(1,m):\n",
        "  s= calendar.monthcalendar(n, i)\n",
        "  for j in s:\n",
        "    for y in j:\n",
        "      if y!=0:\n",
        "        a=calendar.weekday(n,i,y)\n",
        "        if (a==3) and (y!=0):\n",
        "          d=y\n",
        "     \n",
        "  print(d)"
      ],
      "execution_count": 39,
      "outputs": [
        {
          "output_type": "stream",
          "text": [
            "31\n",
            "28\n",
            "28\n",
            "25\n",
            "30\n",
            "27\n",
            "25\n",
            "29\n",
            "26\n",
            "31\n",
            "28\n",
            "26\n"
          ],
          "name": "stdout"
        }
      ]
    }
  ]
}