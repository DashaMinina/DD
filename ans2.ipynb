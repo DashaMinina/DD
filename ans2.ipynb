{
  "nbformat": 4,
  "nbformat_minor": 0,
  "metadata": {
    "colab": {
      "name": "ans2.ipynb",
      "provenance": [],
      "authorship_tag": "ABX9TyMHBYSKXzfJcFqiKVAkZU9C",
      "include_colab_link": true
    },
    "kernelspec": {
      "name": "python3",
      "display_name": "Python 3"
    }
  },
  "cells": [
    {
      "cell_type": "markdown",
      "metadata": {
        "id": "view-in-github",
        "colab_type": "text"
      },
      "source": [
        "<a href=\"https://colab.research.google.com/github/DashaMinina/py_work/blob/master/ans2.ipynb\" target=\"_parent\"><img src=\"https://colab.research.google.com/assets/colab-badge.svg\" alt=\"Open In Colab\"/></a>"
      ]
    },
    {
      "cell_type": "markdown",
      "metadata": {
        "id": "4tb9FGF5okqG",
        "colab_type": "text"
      },
      "source": [
        "5 вариант"
      ]
    },
    {
      "cell_type": "markdown",
      "metadata": {
        "id": "9RHjTlHHoo3A",
        "colab_type": "text"
      },
      "source": [
        "316(а) задача"
      ]
    },
    {
      "cell_type": "code",
      "metadata": {
        "id": "yQ8CqpzunvLb",
        "colab_type": "code",
        "outputId": "1a904c84-60d6-4321-8611-5d3d429320a5",
        "colab": {
          "base_uri": "https://localhost:8080/",
          "height": 67
        }
      },
      "source": [
        "s=\"hello world\"\n",
        "splitted_text = s.split()\n",
        "for i in splitted_text:\n",
        "  \n",
        "  if(i[len(i)-1]==\"d\"):\n",
        "    print(i)\n"
      ],
      "execution_count": 0,
      "outputs": [
        {
          "output_type": "stream",
          "text": [
            "world\n",
            "wwrffglknd\n",
            "d\n"
          ],
          "name": "stdout"
        }
      ]
    },
    {
      "cell_type": "markdown",
      "metadata": {
        "id": "Eis5zALW9TSH",
        "colab_type": "text"
      },
      "source": [
        "370(б) задача"
      ]
    },
    {
      "cell_type": "code",
      "metadata": {
        "id": "4pZmn4w09WTo",
        "colab_type": "code",
        "outputId": "afc97d44-785a-4fda-e448-ea7d72a6ea0e",
        "colab": {
          "base_uri": "https://localhost:8080/",
          "height": 34
        }
      },
      "source": [
        "import math\n",
        "n=3\n",
        "mas=[[0] * n for i in range(n)]\n",
        "mas2=list()\n",
        "a=0\n",
        "for i in range(1,n):\n",
        "  for j in range(0,n):\n",
        "    if i<j:\n",
        "      a=math.sin(i+j)\n",
        "    elif i==j:\n",
        "      a=1\n",
        "    else:\n",
        "      a=math.asin((i+j)/(2*i+3*j))\n",
        "    mas[i][j]=a\n",
        "print(mas)\n"
      ],
      "execution_count": 51,
      "outputs": [
        {
          "output_type": "stream",
          "text": [
            "[[0, 0, 0], [0.5235987755982989, 1, 0.1411200080598672], [0.5235987755982989, 0.4429110440736389, 1]]\n"
          ],
          "name": "stdout"
        }
      ]
    },
    {
      "cell_type": "markdown",
      "metadata": {
        "id": "K6IqZPBPrjnf",
        "colab_type": "text"
      },
      "source": [
        "1014 задача"
      ]
    },
    {
      "cell_type": "code",
      "metadata": {
        "id": "EOCGUIlI7J8e",
        "colab_type": "code",
        "outputId": "533d9829-e50d-46fa-8320-d01721a7cbec",
        "colab": {
          "base_uri": "https://localhost:8080/",
          "height": 84
        }
      },
      "source": [
        "import numpy as np\n",
        "\n",
        "def ismagic(a):\n",
        "    if np.array_equal(np.unique(a.sum(axis=1)),np.unique(a.sum(axis=0))):\n",
        "        return True\n",
        "    else:\n",
        "        return False\n",
        "a = np.matrix([[1, 2], [4, 3]])\n",
        "print(ismagic(a))\n",
        "b = np.ones((5,5))\n",
        "print(ismagic(b))\n",
        "c = np.matrix([[2,7,6],[9,5,1],[4,3,8]])\n",
        "print(ismagic(c))\n",
        "d = np.matrix([[17,24,1,8,15],[23,5,7,14,16],[4,6,13,20,22],[10,12,19,21,3],[11,18,25,2,9]])\n",
        "print(ismagic(d))"
      ],
      "execution_count": 0,
      "outputs": [
        {
          "output_type": "stream",
          "text": [
            "False\n",
            "True\n",
            "True\n",
            "True\n"
          ],
          "name": "stdout"
        }
      ]
    },
    {
      "cell_type": "markdown",
      "metadata": {
        "id": "4ZZBSjqrJSnS",
        "colab_type": "text"
      },
      "source": [
        "438 задача"
      ]
    },
    {
      "cell_type": "code",
      "metadata": {
        "id": "GqHDZLwVJUxb",
        "colab_type": "code",
        "colab": {}
      },
      "source": [
        ""
      ],
      "execution_count": 0,
      "outputs": []
    },
    {
      "cell_type": "markdown",
      "metadata": {
        "id": "RIf1c-8KcwVl",
        "colab_type": "text"
      },
      "source": [
        "136(д) задача"
      ]
    },
    {
      "cell_type": "code",
      "metadata": {
        "id": "xQd0PB6IczBm",
        "colab_type": "code",
        "colab": {
          "base_uri": "https://localhost:8080/",
          "height": 50
        },
        "outputId": "e9598b93-8ec0-484a-d30c-4cd87a2026ac"
      },
      "source": [
        "import random\n",
        "n=5\n",
        "a=list()\n",
        "sum=0\n",
        "for i in range(0,n):\n",
        "  number=random.randint(0,10)\n",
        "  a.append(number)\n",
        "  sum+=number**2\n",
        "print(a)\n",
        "print(sum)\n"
      ],
      "execution_count": 5,
      "outputs": [
        {
          "output_type": "stream",
          "text": [
            "[0, 0, 3, 2, 4]\n",
            "29\n"
          ],
          "name": "stdout"
        }
      ]
    },
    {
      "cell_type": "markdown",
      "metadata": {
        "id": "SnWuUeLig80N",
        "colab_type": "text"
      },
      "source": [
        "832 задача"
      ]
    },
    {
      "cell_type": "code",
      "metadata": {
        "id": "jfJgRKcPg_U0",
        "colab_type": "code",
        "colab": {
          "base_uri": "https://localhost:8080/",
          "height": 218
        },
        "outputId": "0fcef55b-3c86-4164-f1ef-c91baa1534b0"
      },
      "source": [
        "import calendar\n",
        "n=2020\n",
        "m=13\n",
        "for i in range(1,m):\n",
        "  s= calendar.monthcalendar(n, i)\n",
        "  for j in s:\n",
        "    for y in j:\n",
        "      if y!=0:\n",
        "        a=calendar.weekday(n,i,y)\n",
        "        if (a==3) and (y!=0):\n",
        "          d=y\n",
        "  print(\"Санитарный день\",d)"
      ],
      "execution_count": 67,
      "outputs": [
        {
          "output_type": "stream",
          "text": [
            "Санитарный день 30\n",
            "Санитарный день 27\n",
            "Санитарный день 26\n",
            "Санитарный день 30\n",
            "Санитарный день 28\n",
            "Санитарный день 25\n",
            "Санитарный день 30\n",
            "Санитарный день 27\n",
            "Санитарный день 24\n",
            "Санитарный день 29\n",
            "Санитарный день 26\n",
            "Санитарный день 31\n"
          ],
          "name": "stdout"
        }
      ]
    }
  ]
}